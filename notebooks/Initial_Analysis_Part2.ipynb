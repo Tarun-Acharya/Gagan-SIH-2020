{
 "cells": [
  {
   "cell_type": "code",
   "execution_count": 18,
   "metadata": {},
   "outputs": [],
   "source": [
    "import numpy as np\n",
    "from sklearn.cluster import KMeans\n",
    "from PIL import Image\n",
    "import matplotlib.pyplot as plt\n",
    "from scipy.misc import face\n",
    "import sys\n",
    "import cv2\n",
    "import PIL"
   ]
  },
  {
   "cell_type": "code",
   "execution_count": 19,
   "metadata": {},
   "outputs": [],
   "source": [
    "input_file = 'palm.jpg'\n",
    "img= cv2.imread(input_file)\n",
    "h,w,c = img.shape\n",
    "#while (h>400 or w > 400):\n",
    " #   img = cv2.resize(img, dsize=(w//2, h//2), interpolation=cv2.INTER_CUBIC)\n",
    "  #  h,w,c = img.shape\n"
   ]
  },
  {
   "cell_type": "code",
   "execution_count": 20,
   "metadata": {},
   "outputs": [
    {
     "data": {
      "text/plain": [
       "-1"
      ]
     },
     "execution_count": 20,
     "metadata": {},
     "output_type": "execute_result"
    }
   ],
   "source": [
    "import sys\n",
    "import cv2 as cv\n",
    "\n",
    "    \n",
    "src = img\n",
    "# Check if image is loaded fine\n",
    "\n",
    "\n",
    "scale = 1\n",
    "delta = 0   \n",
    "ddepth = cv.CV_16S\n",
    "    \n",
    "src = cv.GaussianBlur(src, (5, 5), 0)\n",
    "    \n",
    "    \n",
    "gray = cv.cvtColor(src, cv.COLOR_BGR2GRAY)\n",
    "    \n",
    "grad_x = cv.Sobel(gray, ddepth, 1, 0, ksize=3, scale=scale, delta=delta, borderType=cv.BORDER_DEFAULT)\n",
    "    # Gradient-Y\n",
    "    # grad_y = cv.Scharr(gray,ddepth,0,1)\n",
    "grad_y = cv.Sobel(gray, ddepth, 0, 1, ksize=3, scale=scale, delta=delta, borderType=cv.BORDER_DEFAULT)\n",
    "    \n",
    "    \n",
    "abs_grad_x = cv.convertScaleAbs(grad_x)\n",
    "abs_grad_y = cv.convertScaleAbs(grad_y)\n",
    "    \n",
    "    \n",
    "grad = cv.addWeighted(abs_grad_x, 2, abs_grad_y, 2, 0)\n",
    "    \n",
    "cv.imwrite('sobel.jpg', grad)     \n",
    "cv.imshow('ancd', grad)\n",
    "cv.waitKey(0)\n",
    "    \n"
   ]
  },
  {
   "cell_type": "code",
   "execution_count": 13,
   "metadata": {},
   "outputs": [
    {
     "name": "stdout",
     "output_type": "stream",
     "text": [
      "(414, 621)\n",
      "414\n"
     ]
    }
   ],
   "source": [
    "print(grad.shape)\n",
    "H=grad.shape[0]\n",
    "W=grad.shape[1]\n",
    "print(H)"
   ]
  },
  {
   "cell_type": "code",
   "execution_count": 14,
   "metadata": {},
   "outputs": [],
   "source": [
    "def objective_function(b):\n",
    "    sky=[]\n",
    "    gnd=[]\n",
    "    if(sum(b)==(H-1)*(W)):\n",
    "        return 0        \n",
    "    for i in range(W):\n",
    "        for j in range(0,b[i]+1):\n",
    "            sky.append(img[j,i])\n",
    "        for j in range(b[i]+1,H):\n",
    "            gnd.append(img[j,i])    \n",
    "\n",
    "    sky = np.transpose(sky)\n",
    "    gnd = np.transpose(gnd)\n",
    "    #print(sky)\n",
    "    #print(gnd)\n",
    "    co_s = np.cov(sky)\n",
    "    co_g = np.cov(gnd)\n",
    "    #print(co_g)\n",
    "    co_sD = np.linalg.det(co_s)\n",
    "    co_gD = np.linalg.det(co_g)\n",
    "    eig_s, _ = np.linalg.eig(co_s)\n",
    "    eig_g, _ = np.linalg.eig(co_g)\n",
    "    J = 1/(2*co_sD + co_gD + (2*eig_s[0]) + (eig_g[0]))\n",
    "    return J       "
   ]
  },
  {
   "cell_type": "code",
   "execution_count": 15,
   "metadata": {},
   "outputs": [],
   "source": [
    "def calculate_border(grad,t):\n",
    "    \n",
    "    b = [None] * W\n",
    "    \n",
    "    for x in range(W):\n",
    "        b[x]=H-1\n",
    "        for y in range(H):\n",
    "            if(grad[y][x]>t):\n",
    "                b[x]=y\n",
    "                break\n",
    "    return b\n",
    "                \n",
    "            "
   ]
  },
  {
   "cell_type": "code",
   "execution_count": 16,
   "metadata": {},
   "outputs": [
    {
     "name": "stdout",
     "output_type": "stream",
     "text": [
      "1\n",
      "2\n",
      "3\n",
      "4\n",
      "5\n",
      "6\n",
      "7\n",
      "8\n",
      "9\n",
      "10\n",
      "11\n",
      "12\n",
      "13\n",
      "14\n",
      "15\n",
      "16\n",
      "17\n",
      "18\n",
      "19\n",
      "20\n",
      "21\n",
      "22\n",
      "23\n",
      "24\n",
      "25\n",
      "26\n",
      "27\n",
      "28\n",
      "29\n",
      "30\n",
      "31\n",
      "32\n",
      "33\n",
      "34\n",
      "35\n",
      "36\n",
      "37\n",
      "38\n",
      "39\n",
      "40\n",
      "41\n",
      "42\n",
      "43\n",
      "44\n",
      "45\n",
      "[282, 278, 277, 277, 260, 260, 281, 282, 289, 326, 283, 214, 285, 286, 287, 287, 277, 277, 286, 273, 269, 272, 272, 271, 272, 259, 259, 237, 258, 239, 239, 238, 257, 184, 277, 289, 288, 292, 292, 293, 293, 263, 263, 257, 257, 257, 257, 257, 309, 256, 255, 256, 255, 256, 263, 262, 293, 235, 235, 235, 235, 237, 234, 183, 238, 291, 271, 189, 189, 189, 188, 188, 188, 244, 248, 249, 264, 265, 249, 182, 240, 239, 239, 182, 239, 239, 239, 239, 239, 239, 239, 239, 241, 245, 245, 245, 245, 226, 245, 245, 245, 245, 253, 260, 259, 259, 248, 248, 249, 257, 257, 259, 223, 222, 222, 237, 242, 245, 272, 230, 243, 219, 218, 218, 218, 218, 218, 218, 218, 218, 218, 218, 218, 218, 218, 224, 323, 287, 278, 278, 278, 241, 240, 228, 238, 254, 256, 244, 244, 251, 301, 243, 250, 255, 255, 255, 255, 255, 255, 255, 241, 241, 241, 241, 241, 241, 185, 184, 184, 184, 184, 184, 184, 184, 184, 184, 183, 183, 240, 241, 259, 259, 259, 264, 259, 259, 260, 253, 253, 183, 183, 184, 184, 184, 184, 236, 235, 235, 235, 184, 184, 279, 241, 246, 246, 246, 245, 245, 245, 245, 245, 245, 246, 290, 288, 278, 278, 252, 252, 253, 252, 252, 255, 255, 259, 259, 259, 290, 259, 258, 258, 258, 287, 287, 286, 286, 244, 244, 253, 231, 242, 223, 224, 288, 310, 220, 250, 299, 280, 278, 298, 201, 201, 206, 206, 206, 206, 274, 274, 274, 274, 281, 296, 273, 296, 295, 295, 280, 280, 218, 295, 295, 295, 295, 295, 255, 260, 260, 260, 261, 261, 261, 262, 262, 249, 247, 247, 262, 252, 263, 263, 256, 257, 252, 252, 253, 260, 238, 238, 237, 237, 236, 235, 231, 235, 235, 235, 235, 233, 236, 236, 236, 251, 227, 269, 266, 266, 233, 255, 279, 279, 279, 279, 206, 207, 280, 240, 281, 191, 191, 190, 190, 190, 190, 191, 191, 191, 191, 191, 191, 192, 194, 195, 195, 202, 276, 222, 222, 231, 239, 244, 252, 277, 252, 252, 274, 207, 207, 207, 207, 207, 207, 207, 207, 207, 207, 207, 207, 207, 207, 207, 346, 346, 273, 200, 200, 200, 200, 206, 207, 207, 207, 208, 268, 230, 230, 218, 229, 214, 212, 215, 268, 269, 269, 269, 211, 211, 246, 222, 222, 222, 243, 234, 242, 217, 242, 306, 234, 235, 180, 180, 180, 174, 173, 172, 172, 172, 172, 172, 172, 172, 172, 172, 172, 172, 172, 172, 172, 172, 174, 178, 179, 179, 198, 239, 239, 210, 191, 190, 189, 188, 187, 186, 186, 185, 185, 185, 184, 184, 184, 184, 185, 181, 185, 185, 181, 185, 185, 186, 186, 212, 201, 192, 193, 176, 172, 171, 171, 171, 171, 170, 167, 166, 166, 166, 166, 166, 166, 166, 166, 166, 166, 166, 166, 167, 171, 213, 321, 215, 215, 215, 206, 215, 215, 215, 215, 215, 215, 215, 215, 215, 214, 214, 206, 206, 206, 199, 199, 332, 215, 198, 171, 170, 170, 170, 170, 170, 170, 170, 303, 250, 249, 173, 173, 174, 97, 94, 84, 83, 82, 81, 81, 81, 80, 80, 80, 79, 78, 77, 75, 60, 60, 59, 59, 59, 59, 59, 58, 58, 58, 58, 59, 59, 60, 61, 62, 67, 73, 75, 76, 75, 75, 76, 71, 68, 57, 57, 56, 56, 56, 57, 66, 66, 66, 66, 65, 65, 66, 66, 75, 76, 79, 80, 80, 80, 80, 79, 78, 77, 77, 77, 77, 78, 88, 88, 89, 232, 232, 228, 228, 240, 274, 391, 246, 246, 242, 272, 299, 299, 299, 210, 210, 250, 249, 250, 283, 284, 247, 226, 225, 294]\n"
     ]
    }
   ],
   "source": [
    "thresh_min=40\n",
    "thresh_max=260\n",
    "search_step=5\n",
    "n=int((thresh_max-thresh_min)/search_step + 1)\n",
    "j_n_max=0\n",
    "for k in range(1,n+1):\n",
    "    print(k)\n",
    "    t=thresh_min+((thresh_max-thresh_min)/n-1)*(k-1)\n",
    "    b_temp=calculate_border(grad,t)   \n",
    "    j_n_temp=objective_function(b_temp)\n",
    "    if j_n_temp>j_n_max:\n",
    "        j_n_max=j_n_temp\n",
    "        b_opt=b_temp\n",
    "print(b_opt)\n",
    "    "
   ]
  },
  {
   "cell_type": "code",
   "execution_count": 17,
   "metadata": {},
   "outputs": [],
   "source": [
    "#temp_code\n",
    "lowest_pixel=[]\n",
    "arr=img\n",
    "for i in range(W):\n",
    "        for j in range(0,b_opt[i]+1):\n",
    "            arr[j][i]=255\n",
    "        for j in range(b_opt[i]+1,H):\n",
    "            arr[j][i]=0 \n"
   ]
  },
  {
   "cell_type": "code",
   "execution_count": 18,
   "metadata": {},
   "outputs": [
    {
     "data": {
      "image/png": "[encoded data removed]",
      "text/plain": [
       "<Figure size 432x288 with 1 Axes>"
      ]
     },
     "metadata": {
      "needs_background": "light"
     },
     "output_type": "display_data"
    }
   ],
   "source": [
    "imgplot = plt.imshow(arr,cmap='gray')\n",
    "plt.show()"
   ]
  },
  {
   "cell_type": "code",
   "execution_count": 334,
   "metadata": {},
   "outputs": [
    {
     "data": {
      "text/plain": [
       "True"
      ]
     },
     "execution_count": 334,
     "metadata": {},
     "output_type": "execute_result"
    }
   ],
   "source": [
    "cv2.imwrite(input_file[:-4]+str('_out_2.jpg'), arr) "
   ]
  },
  {
   "cell_type": "code",
   "execution_count": null,
   "metadata": {},
   "outputs": [],
   "source": []
  },
  {
   "cell_type": "code",
   "execution_count": null,
   "metadata": {},
   "outputs": [],
   "source": []
  },
  {
   "cell_type": "code",
   "execution_count": null,
   "metadata": {},
   "outputs": [],
   "source": []
  }
 ],
 "metadata": {
  "kernelspec": {
   "display_name": "Python 3",
   "language": "python",
   "name": "python3"
  },
  "language_info": {
   "codemirror_mode": {
    "name": "ipython",
    "version": 3
   },
   "file_extension": ".py",
   "mimetype": "text/x-python",
   "name": "python",
   "nbconvert_exporter": "python",
   "pygments_lexer": "ipython3",
   "version": "3.7.1"
  }
 },
 "nbformat": 4,
 "nbformat_minor": 2
}
